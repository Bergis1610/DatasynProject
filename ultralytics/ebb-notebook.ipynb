{
 "cells": [
  {
   "cell_type": "code",
   "execution_count": 5,
   "metadata": {},
   "outputs": [],
   "source": [
    "from bs4 import BeautifulSoup\n",
    "import re\n",
    "import os"
   ]
  },
  {
   "cell_type": "code",
   "execution_count": 6,
   "metadata": {},
   "outputs": [
    {
     "ename": "FeatureNotFound",
     "evalue": "Couldn't find a tree builder with the features you requested: xml. Do you need to install a parser library?",
     "output_type": "error",
     "traceback": [
      "\u001b[1;31m---------------------------------------------------------------------------\u001b[0m",
      "\u001b[1;31mFeatureNotFound\u001b[0m                           Traceback (most recent call last)",
      "Cell \u001b[1;32mIn[6], line 17\u001b[0m\n\u001b[0;32m      9\u001b[0m     data \u001b[39m=\u001b[39m f\u001b[39m.\u001b[39mread()\n\u001b[0;32m     11\u001b[0m \u001b[39m# save_path = \"/Users/jonasolsen/Documents/Skole/IIkt/4_semester/TDT4265 - Datasyn og dyp læring/Øvinger/repo/TDT4265_StarterCode/datasets/China_MotorBike/train/labels\"\u001b[39;00m\n\u001b[0;32m     12\u001b[0m \u001b[39m# complete_path = save_path+\"/\"+filename.split(\"xml\")[0] + \"txt\"\u001b[39;00m\n\u001b[0;32m     13\u001b[0m \n\u001b[0;32m     14\u001b[0m \u001b[39m## opens txt file \u001b[39;00m\n\u001b[0;32m     15\u001b[0m \u001b[39m# file = open(complete_path, \"w\")\u001b[39;00m\n\u001b[1;32m---> 17\u001b[0m bs_data \u001b[39m=\u001b[39m BeautifulSoup(data, \u001b[39m\"\u001b[39;49m\u001b[39mxml\u001b[39;49m\u001b[39m\"\u001b[39;49m)\n\u001b[0;32m     19\u001b[0m bs_classes \u001b[39m=\u001b[39m bs_data\u001b[39m.\u001b[39mfindAll(\u001b[39m\"\u001b[39m\u001b[39mname\u001b[39m\u001b[39m\"\u001b[39m)\n\u001b[0;32m     21\u001b[0m bs_boundingbox \u001b[39m=\u001b[39m bs_data\u001b[39m.\u001b[39mfindAll(\u001b[39m\"\u001b[39m\u001b[39mbndbox\u001b[39m\u001b[39m\"\u001b[39m)\n",
      "File \u001b[1;32m~\\AppData\\Local\\Programs\\Python\\Python310\\lib\\site-packages\\bs4\\__init__.py:250\u001b[0m, in \u001b[0;36mBeautifulSoup.__init__\u001b[1;34m(self, markup, features, builder, parse_only, from_encoding, exclude_encodings, element_classes, **kwargs)\u001b[0m\n\u001b[0;32m    248\u001b[0m     builder_class \u001b[39m=\u001b[39m builder_registry\u001b[39m.\u001b[39mlookup(\u001b[39m*\u001b[39mfeatures)\n\u001b[0;32m    249\u001b[0m     \u001b[39mif\u001b[39;00m builder_class \u001b[39mis\u001b[39;00m \u001b[39mNone\u001b[39;00m:\n\u001b[1;32m--> 250\u001b[0m         \u001b[39mraise\u001b[39;00m FeatureNotFound(\n\u001b[0;32m    251\u001b[0m             \u001b[39m\"\u001b[39m\u001b[39mCouldn\u001b[39m\u001b[39m'\u001b[39m\u001b[39mt find a tree builder with the features you \u001b[39m\u001b[39m\"\u001b[39m\n\u001b[0;32m    252\u001b[0m             \u001b[39m\"\u001b[39m\u001b[39mrequested: \u001b[39m\u001b[39m%s\u001b[39;00m\u001b[39m. Do you need to install a parser library?\u001b[39m\u001b[39m\"\u001b[39m\n\u001b[0;32m    253\u001b[0m             \u001b[39m%\u001b[39m \u001b[39m\"\u001b[39m\u001b[39m,\u001b[39m\u001b[39m\"\u001b[39m\u001b[39m.\u001b[39mjoin(features))\n\u001b[0;32m    255\u001b[0m \u001b[39m# At this point either we have a TreeBuilder instance in\u001b[39;00m\n\u001b[0;32m    256\u001b[0m \u001b[39m# builder, or we have a builder_class that we can instantiate\u001b[39;00m\n\u001b[0;32m    257\u001b[0m \u001b[39m# with the remaining **kwargs.\u001b[39;00m\n\u001b[0;32m    258\u001b[0m \u001b[39mif\u001b[39;00m builder \u001b[39mis\u001b[39;00m \u001b[39mNone\u001b[39;00m:\n",
      "\u001b[1;31mFeatureNotFound\u001b[0m: Couldn't find a tree builder with the features you requested: xml. Do you need to install a parser library?"
     ]
    }
   ],
   "source": [
    "num_D00 = 0\n",
    "num_D10 = 0\n",
    "num_D20 = 0\n",
    "num_D40 = 0\n",
    "\n",
    "for filename in os.listdir(\"datasets/China_MotorBike/train/annotations/xmls\"):\n",
    "\n",
    "    with open('datasets/China_MotorBike/train/annotations/xmls/'+filename, 'r') as f:\n",
    "        data = f.read()\n",
    "\n",
    "    # save_path = \"/Users/jonasolsen/Documents/Skole/IIkt/4_semester/TDT4265 - Datasyn og dyp læring/Øvinger/repo/TDT4265_StarterCode/datasets/China_MotorBike/train/labels\"\n",
    "    # complete_path = save_path+\"/\"+filename.split(\"xml\")[0] + \"txt\"\n",
    "    \n",
    "    ## opens txt file \n",
    "    # file = open(complete_path, \"w\")\n",
    "\n",
    "    bs_data = BeautifulSoup(data, \"xml\")\n",
    "\n",
    "    bs_classes = bs_data.findAll(\"name\")\n",
    "\n",
    "    bs_boundingbox = bs_data.findAll(\"bndbox\")\n",
    "\n",
    "    \n",
    "\n",
    "    for c, bb in zip(bs_classes, bs_boundingbox): \n",
    "\n",
    "        class_string = re.split(\"<|>\", str(c))[2]\n",
    "\n",
    "        if str(class_string) == \"D00\": \n",
    "            class_string = \"0\"\n",
    "            num_D00 += 1\n",
    "        elif class_string == \"D10\": \n",
    "            class_string = \"1\"\n",
    "            num_D10 += 1\n",
    "        elif class_string == \"D20\": \n",
    "            class_string = \"2\"\n",
    "            num_D20 += 1\n",
    "        elif str(class_string) == \"D40\": \n",
    "            class_string = \"3\"\n",
    "            num_D40 += 1\n",
    "        else: \n",
    "            continue"
   ]
  },
  {
   "cell_type": "code",
   "execution_count": null,
   "metadata": {},
   "outputs": [],
   "source": []
  }
 ],
 "metadata": {
  "kernelspec": {
   "display_name": "Python 3",
   "language": "python",
   "name": "python3"
  },
  "language_info": {
   "codemirror_mode": {
    "name": "ipython",
    "version": 3
   },
   "file_extension": ".py",
   "mimetype": "text/x-python",
   "name": "python",
   "nbconvert_exporter": "python",
   "pygments_lexer": "ipython3",
   "version": "3.10.7"
  },
  "orig_nbformat": 4
 },
 "nbformat": 4,
 "nbformat_minor": 2
}
