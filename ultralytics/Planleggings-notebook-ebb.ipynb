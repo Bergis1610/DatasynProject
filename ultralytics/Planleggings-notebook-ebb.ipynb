{
 "cells": [
  {
   "attachments": {},
   "cell_type": "markdown",
   "metadata": {},
   "source": [
    "## Generell Planlegging"
   ]
  },
  {
   "attachments": {},
   "cell_type": "markdown",
   "metadata": {},
   "source": [
    "##### Data analyse\n",
    "* Generelt legge til mer data analyse i egen notatbok\n"
   ]
  },
  {
   "attachments": {},
   "cell_type": "markdown",
   "metadata": {},
   "source": [
    "##### Video\n",
    "* Lage en mal og plan for videoen.\n",
    "* Hva skal være med?\n",
    "* Hva skal vi ha i rapporten?\n",
    "\n"
   ]
  },
  {
   "attachments": {},
   "cell_type": "markdown",
   "metadata": {},
   "source": [
    "##### Rapport\n",
    "* Hva skal være i rapporten?\n",
    "* Hyperparametere?\n",
    "* Spesifikasjoner\n",
    "* Model navn og type\n",
    "* Alt det kjedelige?"
   ]
  },
  {
   "attachments": {},
   "cell_type": "markdown",
   "metadata": {},
   "source": [
    "##### Selve modellen og innleveringer(Submissions)\n",
    "* kjøre detect og få testa vår innleveringsfil\n",
    "* Finne ut specs for selve innleverings fila\n",
    "* La den kjøre igjen evt med endringer og forbedringer?"
   ]
  },
  {
   "cell_type": "markdown",
   "metadata": {},
   "source": []
  }
 ],
 "metadata": {
  "language_info": {
   "name": "python"
  },
  "orig_nbformat": 4
 },
 "nbformat": 4,
 "nbformat_minor": 2
}
